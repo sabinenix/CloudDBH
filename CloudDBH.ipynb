{
 "cells": [
  {
   "cell_type": "markdown",
   "metadata": {},
   "source": [
    "## Base Code\n",
    "This code is provided by [Mat Disney, Phil Wilkes etc] \n",
    "Running on data from Calders et al."
   ]
  },
  {
   "cell_type": "code",
   "execution_count": 2,
   "metadata": {},
   "outputs": [],
   "source": [
    "#Code below is from TLS_Inventory\n",
    "import numpy as np\n",
    "import pandas as pd\n",
    "import glob\n",
    "import sys\n",
    "import os\n",
    "import open3d as o3d\n",
    "\n",
    "from shapely.ops import cascaded_union, polygonize\n",
    "from shapely.geometry import Polygon, LineString\n",
    "import shapely.geometry as geometry\n",
    "\n",
    "from scipy import optimize\n",
    "from scipy.spatial import ConvexHull, Delaunay\n",
    "import scipy.io as sio\n",
    "\n",
    "from matplotlib import pyplot as plt, cm, colors\n",
    "\n",
    "import math\n",
    "from math import pi\n",
    "\n",
    "from sklearn.neighbors import NearestNeighbors\n",
    "from descartes import PolygonPatch"
   ]
  },
  {
   "cell_type": "code",
   "execution_count": null,
   "metadata": {},
   "outputs": [],
   "source": []
  }
 ],
 "metadata": {
  "kernelspec": {
   "display_name": "Python 3",
   "language": "python",
   "name": "python3"
  },
  "language_info": {
   "codemirror_mode": {
    "name": "ipython",
    "version": 3
   },
   "file_extension": ".py",
   "mimetype": "text/x-python",
   "name": "python",
   "nbconvert_exporter": "python",
   "pygments_lexer": "ipython3",
   "version": "3.7.6"
  }
 },
 "nbformat": 4,
 "nbformat_minor": 4
}
